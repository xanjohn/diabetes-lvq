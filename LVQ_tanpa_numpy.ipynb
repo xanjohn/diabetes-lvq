{
 "cells": [
  {
   "cell_type": "code",
   "execution_count": 1,
   "metadata": {},
   "outputs": [],
   "source": [
    "import pandas as pd\n",
    "import math\n",
    "import random\n"
   ]
  },
  {
   "cell_type": "code",
   "execution_count": 2,
   "metadata": {},
   "outputs": [],
   "source": [
    "\n",
    "# Definisikan fungsi LVQ\n",
    "def lvq(train_data, train_labels, num_epochs, learning_rate):\n",
    "    # Inisialisasi bobot secara acak\n",
    "    num_features = len(train_data[0])\n",
    "    num_classes = len(set(train_labels))\n",
    "    weights = [[random.random() for _ in range(num_features)] for _ in range(num_classes)]\n",
    "    \n",
    "    for epoch in range(num_epochs):\n",
    "        for i in range(len(train_data)):\n",
    "            # Hitung jarak euclidean antara data dengan setiap bobot kelas\n",
    "            distances = [math.sqrt(sum((train_data[i][j] - weights[winner_index][j]) ** 2 for j in range(num_features))) \n",
    "                         for winner_index in range(num_classes)]\n",
    "            # Dapatkan indeks bobot terdekat (pemenang)\n",
    "            winner_index = distances.index(min(distances))\n",
    "            \n",
    "            # Perbarui bobot berdasarkan label data dan bobot pemenang\n",
    "            if train_labels[i] == winner_index:\n",
    "                for j in range(num_features):\n",
    "                    weights[winner_index][j] += learning_rate * (train_data[i][j] - weights[winner_index][j])\n",
    "            else:\n",
    "                for j in range(num_features):\n",
    "                    weights[winner_index][j] -= learning_rate * (train_data[i][j] - weights[winner_index][j])\n",
    "    \n",
    "    return weights\n",
    "\n"
   ]
  },
  {
   "cell_type": "code",
   "execution_count": 3,
   "metadata": {},
   "outputs": [],
   "source": [
    "# Data dan label contoh\n",
    "data = pd.read_csv('diabetes.csv', usecols=[0,1,2,3,4,5,6,7]).values\n",
    "labels = pd.read_csv('diabetes.csv', usecols=[8]).values\n"
   ]
  },
  {
   "cell_type": "code",
   "execution_count": 4,
   "metadata": {},
   "outputs": [],
   "source": [
    "# Convert train_labels to a list\n",
    "labels_list = [label[0] for label in labels]\n",
    "\n"
   ]
  },
  {
   "cell_type": "code",
   "execution_count": 5,
   "metadata": {},
   "outputs": [],
   "source": [
    "# Normalisasi data agar memiliki skala yang seragam\n",
    "mean = [sum(data[:, j]) / len(data) for j in range(data.shape[1])]\n",
    "std = [math.sqrt(sum((data[i][j] - mean[j]) ** 2 for i in range(len(data))) / len(data)) for j in range(data.shape[1])]\n",
    "normalized_data = [[(data[i][j] - mean[j]) / std[j] for j in range(data.shape[1])] for i in range(len(data))]\n",
    "\n"
   ]
  },
  {
   "cell_type": "code",
   "execution_count": 6,
   "metadata": {},
   "outputs": [],
   "source": [
    "# Tentukan hyperparameter LVQ\n",
    "num_epochs = 100\n",
    "learning_rate = 0.1\n",
    "\n"
   ]
  },
  {
   "cell_type": "code",
   "execution_count": 7,
   "metadata": {},
   "outputs": [],
   "source": [
    "# Lakukan training dengan LVQ\n",
    "trained_weights = lvq(normalized_data, labels_list, num_epochs, learning_rate)\n",
    "\n"
   ]
  },
  {
   "cell_type": "code",
   "execution_count": 8,
   "metadata": {},
   "outputs": [],
   "source": [
    "# Contoh data untuk prediksi\n",
    "test_data = [[6,148,72,35,0,33.6,0.627,50],\n",
    "             [1,85,66,29,0,26.6,0.351,31],\n",
    "             [8,183,64,0,0,23.3,0.672,32],\n",
    "             [1,89,66,23,94,28.1,0.167,21],\n",
    "             [0,137,40,35,168,43.1,2.288,33],\n",
    "             [5,116,74,0,0,25.6,0.201,30],\n",
    "              [3,78,50,32,88,31.0,0.248,26],\n",
    "              [10,115,0,0,0,35.3,0.134,29],\n",
    "              [2,197,70,45,543,30.5,0.158,53],\n",
    "              [8,125,96,0,0,0.0,0.232,54],\n",
    "              [4,110,92,0,0,37.6,0.191,30],]\n",
    "\n"
   ]
  },
  {
   "cell_type": "code",
   "execution_count": 9,
   "metadata": {},
   "outputs": [],
   "source": [
    "# Normalisasi data test\n",
    "normalized_test_data = [[(test_data[i][j] - mean[j]) / std[j] for j in range(len(test_data[i]))] for i in range(len(test_data))]\n",
    "\n"
   ]
  },
  {
   "cell_type": "code",
   "execution_count": 10,
   "metadata": {},
   "outputs": [
    {
     "name": "stdout",
     "output_type": "stream",
     "text": [
      "Data 1: Prediksi Kelas = Diabetes\n",
      "Data 2: Prediksi Kelas = Tidak Diabetes\n",
      "Data 3: Prediksi Kelas = Diabetes\n",
      "Data 4: Prediksi Kelas = Tidak Diabetes\n",
      "Data 5: Prediksi Kelas = Diabetes\n",
      "Data 6: Prediksi Kelas = Tidak Diabetes\n",
      "Data 7: Prediksi Kelas = Tidak Diabetes\n",
      "Data 8: Prediksi Kelas = Tidak Diabetes\n",
      "Data 9: Prediksi Kelas = Diabetes\n",
      "Data 10: Prediksi Kelas = Tidak Diabetes\n",
      "Data 11: Prediksi Kelas = Tidak Diabetes\n"
     ]
    }
   ],
   "source": [
    "for i in range(len(normalized_test_data)):\n",
    "    distances = [math.sqrt(sum((normalized_test_data[i][j] - trained_weights[winner_index][j]) ** 2 for j in range(len(normalized_test_data[i])))) \n",
    "                 for winner_index in range(len(trained_weights))]\n",
    "    predicted_class = distances.index(min(distances))\n",
    "\n",
    "    if predicted_class == 0:\n",
    "        print(f\"Data {i+1}: Prediksi Kelas = Tidak Diabetes\")\n",
    "    else:\n",
    "        print(f\"Data {i+1}: Prediksi Kelas = Diabetes\")\n"
   ]
  },
  {
   "cell_type": "code",
   "execution_count": null,
   "metadata": {},
   "outputs": [],
   "source": []
  }
 ],
 "metadata": {
  "kernelspec": {
   "display_name": "Python 3 (ipykernel)",
   "language": "python",
   "name": "python3"
  },
  "language_info": {
   "codemirror_mode": {
    "name": "ipython",
    "version": 3
   },
   "file_extension": ".py",
   "mimetype": "text/x-python",
   "name": "python",
   "nbconvert_exporter": "python",
   "pygments_lexer": "ipython3",
   "version": "3.11.3"
  }
 },
 "nbformat": 4,
 "nbformat_minor": 4
}
