{
 "cells": [
  {
   "cell_type": "code",
   "execution_count": 19,
   "metadata": {},
   "outputs": [],
   "source": [
    "import numpy as np\n",
    "import pandas as pd"
   ]
  },
  {
   "cell_type": "code",
   "execution_count": 20,
   "metadata": {},
   "outputs": [],
   "source": [
    "# Definisikan fungsi LVQ\n",
    "def lvq(train_data, train_labels, num_epochs, learning_rate):\n",
    "    # Inisialisasi bobot secara acak\n",
    "    num_features = train_data.shape[1]\n",
    "    num_classes = np.unique(train_labels).shape[0]\n",
    "    weights = np.random.rand(num_classes, num_features)\n",
    "    \n",
    "    for epoch in range(num_epochs):\n",
    "        for i in range(train_data.shape[0]):\n",
    "            # Hitung jarak euclidean antara data dengan setiap bobot kelas\n",
    "            distances = np.linalg.norm(train_data[i] - weights, axis=1)\n",
    "            # Dapatkan indeks bobot terdekat (pemenang)\n",
    "            winner_index = np.argmin(distances)\n",
    "            \n",
    "            # Perbarui bobot berdasarkan label data dan bobot pemenang\n",
    "            if train_labels[i] == winner_index:\n",
    "                weights[winner_index] += learning_rate * (train_data[i] - weights[winner_index])\n",
    "            else:\n",
    "                weights[winner_index] -= learning_rate * (train_data[i] - weights[winner_index])\n",
    "    \n",
    "    return weights"
   ]
  },
  {
   "cell_type": "code",
   "execution_count": 21,
   "metadata": {},
   "outputs": [],
   "source": [
    "# Data dan label contoh\n",
    "data = pd.read_csv('diabetes.csv', usecols=[0,1,2,3,4,5,6,7]).values\n",
    "labels = pd.read_csv('diabetes.csv', usecols=[8]).values"
   ]
  },
  {
   "cell_type": "code",
   "execution_count": 22,
   "metadata": {},
   "outputs": [],
   "source": [
    "# Normalisasi data agar memiliki skala yang seragam\n",
    "normalized_data = (data - data.mean(axis=0)) / data.std(axis=0)"
   ]
  },
  {
   "cell_type": "code",
   "execution_count": 23,
   "metadata": {},
   "outputs": [],
   "source": [
    "# Tentukan hyperparameter LVQ\n",
    "num_epochs = 100\n",
    "learning_rate = 0.1"
   ]
  },
  {
   "cell_type": "code",
   "execution_count": 24,
   "metadata": {},
   "outputs": [],
   "source": [
    "# Lakukan training dengan LVQ\n",
    "trained_weights = lvq(normalized_data, labels, num_epochs, learning_rate)"
   ]
  },
  {
   "cell_type": "code",
   "execution_count": 25,
   "metadata": {},
   "outputs": [],
   "source": [
    "# Contoh data untuk prediksi\n",
    "test_data = np.array([[6,148,72,35,0,33.6,0.627,50],\n",
    "                      [1,85,66,29,0,26.6,0.351,31],\n",
    "                      [8,183,64,0,0,23.3,0.672,32]])"
   ]
  },
  {
   "cell_type": "code",
   "execution_count": 17,
   "metadata": {},
   "outputs": [],
   "source": [
    "# Normalisasi data test\n",
    "normalized_test_data = (test_data - data.mean(axis=0)) / data.std(axis=0)"
   ]
  },
  {
   "cell_type": "code",
   "execution_count": 27,
   "metadata": {},
   "outputs": [
    {
     "name": "stdout",
     "output_type": "stream",
     "text": [
      "Data 1: Prediksi Kelas = 1\n",
      "Data 2: Prediksi Kelas = 0\n",
      "Data 3: Prediksi Kelas = 1\n"
     ]
    }
   ],
   "source": [
    "# Lakukan prediksi\n",
    "for i in range(normalized_test_data.shape[0]):\n",
    "    distances = np.linalg.norm(normalized_test_data[i] - trained_weights, axis=1)\n",
    "    predicted_class = np.argmin(distances)\n",
    "    print(f\"Data {i+1}: Prediksi Kelas = {predicted_class}\")"
   ]
  },
  {
   "cell_type": "code",
   "execution_count": null,
   "metadata": {},
   "outputs": [],
   "source": []
  }
 ],
 "metadata": {
  "kernelspec": {
   "display_name": "Python 3 (ipykernel)",
   "language": "python",
   "name": "python3"
  },
  "language_info": {
   "codemirror_mode": {
    "name": "ipython",
    "version": 3
   },
   "file_extension": ".py",
   "mimetype": "text/x-python",
   "name": "python",
   "nbconvert_exporter": "python",
   "pygments_lexer": "ipython3",
   "version": "3.11.3"
  }
 },
 "nbformat": 4,
 "nbformat_minor": 4
}
